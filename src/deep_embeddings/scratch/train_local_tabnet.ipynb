{
  "cells": [
    {
      "cell_type": "code",
      "source": [
        "import sys \r\n",
        "sys.path.append(\"./tabnet/tf_tabnet/\")\r\n",
        "\r\n",
        "import math\r\n",
        "\r\n",
        "import pandas as pd\r\n",
        "import numpy as np\r\n",
        "import matplotlib.pyplot as plt\r\n",
        "\r\n",
        "from sklearn.preprocessing import minmax_scale\r\n",
        "from sklearn.decomposition import PCA\r\n",
        "\r\n",
        "import tensorflow as tf\r\n",
        "from tensorflow.data import Dataset\r\n",
        "from tensorflow.keras.models import Model\r\n",
        "from tensorflow.keras import layers, models, optimizers\r\n",
        "from tensorflow.keras.optimizers import Adam\r\n",
        "from tensorflow.keras.losses import SparseCategoricalCrossentropy\r\n",
        "from tensorflow.keras.models import load_model, save_model\r\n",
        "from keras import backend as K\r\n",
        "\r\n",
        "from tensorflow_addons.optimizers import AdamW\r\n",
        "\r\n",
        "from model.arcface_loss import ArcFace\r\n",
        "import tabnet_model\r\n",
        "\r\n",
        "from train import encode_y, scale_X, quantile_X, grouped_train_test_split #, make_X_y\r\n",
        "from eval import recall_at_k"
      ],
      "outputs": [],
      "execution_count": 1,
      "metadata": {
        "jupyter": {
          "source_hidden": false,
          "outputs_hidden": false
        },
        "nteract": {
          "transient": {
            "deleting": false
          }
        },
        "gather": {
          "logged": 1657127661413
        }
      }
    },
    {
      "cell_type": "code",
      "source": [
        "def seed_everything(seed=24):\r\n",
        "    np.random.seed(seed)\r\n",
        "    tf.random.set_seed(seed)\r\n",
        "\r\n",
        "seed_everything(24)"
      ],
      "outputs": [],
      "execution_count": 2,
      "metadata": {
        "jupyter": {
          "source_hidden": false,
          "outputs_hidden": false
        },
        "nteract": {
          "transient": {
            "deleting": false
          }
        },
        "gather": {
          "logged": 1657127661620
        }
      }
    },
    {
      "cell_type": "code",
      "source": [
        "df = pd.read_parquet(\"../../../../data/clean/clean_sample.parquet\")\n",
        "df.shape"
      ],
      "outputs": [
        {
          "output_type": "execute_result",
          "execution_count": 3,
          "data": {
            "text/plain": "(197305, 991)"
          },
          "metadata": {}
        }
      ],
      "execution_count": 3,
      "metadata": {
        "jupyter": {
          "source_hidden": false,
          "outputs_hidden": false
        },
        "nteract": {
          "transient": {
            "deleting": false
          }
        },
        "gather": {
          "logged": 1657127681221
        }
      }
    },
    {
      "cell_type": "code",
      "source": [
        "def make_X_y(df):\r\n",
        "    \"\"\"\r\n",
        "    Split into gene expression values (X) and perturbagen labels (y)\r\n",
        "    \"\"\"\r\n",
        "    df = df.drop(['pert_dose', \r\n",
        "    'pert_dose_unit', \r\n",
        "    'pert_id', \r\n",
        "    'pert_mfc_id',\r\n",
        "    'pert_time', \r\n",
        "    'pert_time_unit', \r\n",
        "    'pert_type', \r\n",
        "    'rna_plate', \r\n",
        "    'rna_well',\r\n",
        "    #'cell_id',\r\n",
        "    'det_plate',\r\n",
        "    'det_well'\r\n",
        "    ], axis=1)\r\n",
        "\r\n",
        "    X = df.loc[:, df.columns != 'pert_iname']\r\n",
        "    y = df['pert_iname']\r\n",
        "    return (X, y)"
      ],
      "outputs": [],
      "execution_count": 4,
      "metadata": {
        "jupyter": {
          "source_hidden": false,
          "outputs_hidden": false
        },
        "nteract": {
          "transient": {
            "deleting": false
          }
        },
        "gather": {
          "logged": 1657127681545
        }
      }
    },
    {
      "cell_type": "code",
      "source": [
        "X, y = make_X_y(df)\n",
        "cat_cols = list(X.select_dtypes(include=[\"object\"]).columns)\n",
        "num_cols = X.columns.difference(cat_cols)"
      ],
      "outputs": [],
      "execution_count": 5,
      "metadata": {
        "jupyter": {
          "source_hidden": false,
          "outputs_hidden": false
        },
        "nteract": {
          "transient": {
            "deleting": false
          }
        },
        "gather": {
          "logged": 1657127682468
        }
      }
    },
    {
      "cell_type": "code",
      "source": [
        "X_train, X_test, y_train, y_test = grouped_train_test_split(X, y, y, test_size=0.2)\r\n",
        "X_train_num_scale, X_test_num_scale = scale_X(X_train[num_cols], X_test[num_cols]) #df.values[:] = StandardScaler().fit_transform(df)\r\n",
        "#X_train_scale, X_test_scale = quantile_X(X_train, X_test)\r\n",
        "\r\n",
        "X_train_scale = pd.concat([pd.DataFrame(X_train_num_scale), X_train[cat_cols].reset_index(drop=True)], axis=1)\r\n",
        "X_test_scale = pd.concat([pd.DataFrame(X_test_num_scale), X_test[cat_cols].reset_index(drop=True)], axis=1)"
      ],
      "outputs": [],
      "execution_count": 6,
      "metadata": {
        "jupyter": {
          "source_hidden": false,
          "outputs_hidden": false
        },
        "nteract": {
          "transient": {
            "deleting": false
          }
        },
        "gather": {
          "logged": 1657127687788
        }
      }
    },
    {
      "cell_type": "code",
      "source": [
        "num_classes = len(np.unique(y_train))\r\n",
        "y_train_encode = encode_y(y_train)"
      ],
      "outputs": [],
      "execution_count": 7,
      "metadata": {
        "jupyter": {
          "source_hidden": false,
          "outputs_hidden": false
        },
        "nteract": {
          "transient": {
            "deleting": false
          }
        },
        "gather": {
          "logged": 1657127688016
        }
      }
    },
    {
      "cell_type": "code",
      "source": [
        "BATCH_SIZE = 1024\r\n",
        "\r\n",
        "train_dataset = Dataset.from_tensor_slices((dict(X_train), y_train_encode))\r\n",
        "label_dataset = Dataset.from_tensor_slices(y_train_encode)\r\n",
        "dataset = Dataset.zip((train_dataset, label_dataset)).shuffle(100).batch(BATCH_SIZE).prefetch(2)"
      ],
      "outputs": [
        {
          "output_type": "stream",
          "name": "stderr",
          "text": "2022-07-06 17:14:47.966961: I tensorflow/core/platform/cpu_feature_guard.cc:193] This TensorFlow binary is optimized with oneAPI Deep Neural Network Library (oneDNN) to use the following CPU instructions in performance-critical operations:  AVX2 FMA\nTo enable them in other operations, rebuild TensorFlow with the appropriate compiler flags.\n2022-07-06 17:14:48.499252: I tensorflow/core/common_runtime/gpu/gpu_device.cc:1532] Created device /job:localhost/replica:0/task:0/device:GPU:0 with 10794 MB memory:  -> device: 0, name: Tesla K80, pci bus id: 0001:00:00.0, compute capability: 3.7\n"
        }
      ],
      "execution_count": 8,
      "metadata": {
        "jupyter": {
          "source_hidden": false,
          "outputs_hidden": false
        },
        "nteract": {
          "transient": {
            "deleting": false
          }
        },
        "gather": {
          "logged": 1657127691746
        }
      }
    },
    {
      "cell_type": "code",
      "source": [
        "def create_keras_input_layer(feature_names, cat_str_feature_names):\r\n",
        "    model_inputs = list()\r\n",
        "    \r\n",
        "    for name in feature_names:\r\n",
        "        if name in cat_str_feature_names:\r\n",
        "            dtype = tf.string\r\n",
        "        else:\r\n",
        "            dtype = tf.float32\r\n",
        "        \r\n",
        "        shape = (1,) if dtype==tf.float32 else ()\r\n",
        "        model_inputs.append(tf.keras.Input(shape=shape, name=name, dtype=dtype))\r\n",
        "    \r\n",
        "    return model_inputs"
      ],
      "outputs": [],
      "execution_count": 9,
      "metadata": {
        "jupyter": {
          "source_hidden": false,
          "outputs_hidden": false
        },
        "nteract": {
          "transient": {
            "deleting": false
          }
        },
        "gather": {
          "logged": 1657127691921
        }
      }
    },
    {
      "cell_type": "code",
      "source": [
        "def encode_categorical_feature(keras_input, feature_name, dataset, \r\n",
        "                               embed_dim, is_string):\r\n",
        "    feature_ds = dataset.map(lambda x, _: x[feature_name])\r\n",
        "    feature_ds = feature_ds.map(lambda x: tf.expand_dims(x, -1))\r\n",
        "\r\n",
        "    lookup_fn = tf.keras.layers.StringLookup if is_string else tf.keras.layers.IntegerLookup\r\n",
        "    lookup = lookup_fn(output_mode=\"int\")\r\n",
        "    lookup.adapt(feature_ds)\r\n",
        "    encoded_feature = lookup(keras_input)\r\n",
        "    embedded_feature = tf.keras.layers.Embedding(\r\n",
        "        input_dim=lookup.vocabulary_size(), \r\n",
        "        output_dim=embed_dim, \r\n",
        "        name=f\"{feature_name}_embedding\"\r\n",
        "    )(encoded_feature)\r\n",
        "\r\n",
        "    return embedded_feature\r\n",
        "\r\n",
        "\r\n",
        "def encode_features(keras_inputs, feature_names, \r\n",
        "                    cat_str_feature_names, cat_embed_dims, \r\n",
        "                    dataset):\r\n",
        "    encoded_features = list()\r\n",
        "\r\n",
        "    for keras_input, feature_name in zip(keras_inputs, feature_names):\r\n",
        "        if feature_name in cat_str_feature_names:\r\n",
        "            # add embedding layer for all categorical features\r\n",
        "            embed_dim = cat_embed_dims[feature_name] if feature_name in cat_embed_dims.keys() else 1\r\n",
        "            encoded_features.append(\r\n",
        "                encode_categorical_feature(keras_input, feature_name, \r\n",
        "                                           dataset, \r\n",
        "                                           embed_dim, \r\n",
        "                                           feature_name in cat_str_feature_names)\r\n",
        "            )\r\n",
        "        else: \r\n",
        "            # no encoding for numerical features\r\n",
        "            encoded_features.append(keras_input)\r\n",
        "    \r\n",
        "    return encoded_features"
      ],
      "outputs": [],
      "execution_count": 10,
      "metadata": {
        "jupyter": {
          "source_hidden": false,
          "outputs_hidden": false
        },
        "nteract": {
          "transient": {
            "deleting": false
          }
        },
        "gather": {
          "logged": 1657127692327
        }
      }
    },
    {
      "cell_type": "code",
      "source": [
        "tabnet_params = {\r\n",
        "        \"decision_dim\": 64, \r\n",
        "        \"attention_dim\": 128, \r\n",
        "        \"n_steps\": 1, \r\n",
        "        \"n_shared_glus\": 1, \r\n",
        "        \"n_dependent_glus\": 1, \r\n",
        "        \"relaxation_factor\": 1.3, \r\n",
        "        \"epsilon\": 1e-15, \r\n",
        "        \"virtual_batch_size\": None, \r\n",
        "        \"momentum\": 0.98, \r\n",
        "        \"mask_type\": \"entmax\", \r\n",
        "        \"lambda_sparse\": 0, \r\n",
        "}\r\n",
        "\r\n",
        "cat_embed_dims = {\r\n",
        "    \"cell_id\": 19 #min(600, round(1.6 * X_train['cell_id'].nunique() ** .56))\r\n",
        "}"
      ],
      "outputs": [],
      "execution_count": 11,
      "metadata": {
        "jupyter": {
          "source_hidden": false,
          "outputs_hidden": false
        },
        "nteract": {
          "transient": {
            "deleting": false
          }
        },
        "gather": {
          "logged": 1657127692535
        }
      }
    },
    {
      "cell_type": "code",
      "source": [
        "feature_names = list(X_train.columns)\r\n",
        "embedding_size = 32\r\n",
        "\r\n",
        "gene_expression = create_keras_input_layer(feature_names, cat_cols)\r\n",
        "x = encode_features(gene_expression, feature_names, cat_cols, cat_embed_dims, train_dataset)\r\n",
        "x = tf.keras.layers.Concatenate()(x)\r\n",
        "x = tabnet_model.TabNetEncoder(**tabnet_params)(x)\r\n",
        "x = layers.Dense(embedding_size, name=\"embedding\")(x) \r\n",
        "l2norm_embedding = layers.Lambda(lambda t: K.l2_normalize(t, axis=1))(x)\r\n",
        "\r\n",
        "labels = layers.Input(shape=(1,), dtype = np.int32, name=\"labels\") \r\n",
        "x = ArcFace(num_classes, BATCH_SIZE, max_m=0.15)([l2norm_embedding, labels]) \r\n",
        "output = layers.Activation('softmax')(x)\r\n",
        "\r\n",
        "model = Model([gene_expression, labels], output)"
      ],
      "outputs": [],
      "execution_count": 12,
      "metadata": {
        "jupyter": {
          "source_hidden": false,
          "outputs_hidden": false
        },
        "nteract": {
          "transient": {
            "deleting": false
          }
        },
        "gather": {
          "logged": 1657127891404
        }
      }
    },
    {
      "cell_type": "code",
      "source": [
        "model.compile(loss=SparseCategoricalCrossentropy(),\n",
        "                optimizer=AdamW(learning_rate=5e-3, weight_decay=1e-3),\n",
        "                metrics=['accuracy'])\n",
        "\n",
        "EPOCHS = 15\n",
        "\n",
        "model.fit(dataset,\n",
        "        batch_size=BATCH_SIZE,\n",
        "        epochs=EPOCHS,\n",
        "        verbose=1)"
      ],
      "outputs": [
        {
          "output_type": "stream",
          "name": "stdout",
          "text": "Epoch 1/15\n158/158 [==============================] - 167s 981ms/step - loss: 14.2257 - accuracy: 0.0070\b\b\b\b\b\b\b\b\b\b\b\b\b\b\b\b\b\b\b\b\b\b\b\b\b\b\b\b\b\b\b\b\b\b\b\b\b\b\b\b\b\b\b\b\b\b\b\b\b\b\b\b\b\b\b\b\b\b\b\b\b\b\b\b\b\b\b\b\b\b\b\b\b\b\b\b\b\b\b\b\b\b\b\b\b\b\b\b\b\b\b\nEpoch 2/15\n158/158 [==============================] - 155s 978ms/step - loss: 11.5947 - accuracy: 0.0094\b\b\b\b\b\b\b\b\b\b\b\b\b\b\b\b\b\b\b\b\b\b\b\b\b\b\b\b\b\b\b\b\b\b\b\b\b\b\b\b\b\b\b\b\b\b\b\b\b\b\b\b\b\b\b\b\b\b\b\b\b\b\b\b\b\b\b\b\b\b\b\b\b\b\b\b\b\b\b\b\b\nEpoch 3/15\n158/158 [==============================] - 155s 977ms/step - loss: 10.3085 - accuracy: 0.0127\b\b\b\b\b\b\b\b\b\b\b\b\b\b\b\b\b\b\b\b\b\b\b\b\b\b\b\b\b\b\b\b\b\b\b\b\b\b\b\b\b\b\b\b\b\b\b\b\b\b\b\b\b\b\b\b\b\b\b\b\b\b\b\b\b\b\b\b\b\b\b\b\b\b\b\b\b\b\b\b\b\nEpoch 4/15\n158/158 [==============================] - 157s 991ms/step - loss: 9.2489 - accuracy: 0.0140\b\b\b\b\b\b\b\b\b\b\b\b\b\b\b\b\b\b\b\b\b\b\b\b\b\b\b\b\b\b\b\b\b\b\b\b\b\b\b\b\b\b\b\b\b\b\b\b\b\b\b\b\b\b\b\b\b\b\b\b\b\b\b\b\b\b\b\b\b\b\b\b\b\b\b\b\b\b\b\b\nEpoch 5/15\n158/158 [==============================] - 156s 985ms/step - loss: 8.4442 - accuracy: 0.0155\b\b\b\b\b\b\b\b\b\b\b\b\b\b\b\b\b\b\b\b\b\b\b\b\b\b\b\b\b\b\b\b\b\b\b\b\b\b\b\b\b\b\b\b\b\b\b\b\b\b\b\b\b\b\b\b\b\b\b\b\b\b\b\b\b\b\b\b\b\b\b\b\b\b\b\b\b\b\b\b\nEpoch 6/15\n158/158 [==============================] - 155s 980ms/step - loss: 7.8219 - accuracy: 0.0160\b\b\b\b\b\b\b\b\b\b\b\b\b\b\b\b\b\b\b\b\b\b\b\b\b\b\b\b\b\b\b\b\b\b\b\b\b\b\b\b\b\b\b\b\b\b\b\b\b\b\b\b\b\b\b\b\b\b\b\b\b\b\b\b\b\b\b\b\b\b\b\b\b\b\b\b\b\b\b\b\nEpoch 7/15\n158/158 [==============================] - 154s 971ms/step - loss: 7.4090 - accuracy: 0.0132\b\b\b\b\b\b\b\b\b\b\b\b\b\b\b\b\b\b\b\b\b\b\b\b\b\b\b\b\b\b\b\b\b\b\b\b\b\b\b\b\b\b\b\b\b\b\b\b\b\b\b\b\b\b\b\b\b\b\b\b\b\b\b\b\b\b\b\b\b\b\b\b\b\b\b\b\b\b\b\b\nEpoch 8/15\n158/158 [==============================] - 151s 953ms/step - loss: 7.1706 - accuracy: 0.0121\b\b\b\b\b\b\b\b\b\b\b\b\b\b\b\b\b\b\b\b\b\b\b\b\b\b\b\b\b\b\b\b\b\b\b\b\b\b\b\b\b\b\b\b\b\b\b\b\b\b\b\b\b\b\b\b\b\b\b\b\b\b\b\b\b\b\b\b\b\b\b\b\b\b\b\b\b\b\b\b\nEpoch 9/15\n158/158 [==============================] - 150s 949ms/step - loss: 7.0434 - accuracy: 0.0117\b\b\b\b\b\b\b\b\b\b\b\b\b\b\b\b\b\b\b\b\b\b\b\b\b\b\b\b\b\b\b\b\b\b\b\b\b\b\b\b\b\b\b\b\b\b\b\b\b\b\b\b\b\b\b\b\b\b\b\b\b\b\b\b\b\b\b\b\b\b\b\b\b\b\b\b\b\b\b\b\nEpoch 10/15\n158/158 [==============================] - 147s 927ms/step - loss: 6.9741 - accuracy: 0.0118\b\b\b\b\b\b\b\b\b\b\b\b\b\b\b\b\b\b\b\b\b\b\b\b\b\b\b\b\b\b\b\b\b\b\b\b\b\b\b\b\b\b\b\b\b\b\b\b\b\b\b\b\b\b\b\b\b\b\b\b\b\b\b\b\b\b\b\b\b\b\b\b\b\b\b\b\b\b\b\b\nEpoch 11/15\n158/158 [==============================] - 147s 929ms/step - loss: 6.9269 - accuracy: 0.0116\b\b\b\b\b\b\b\b\b\b\b\b\b\b\b\b\b\b\b\b\b\b\b\b\b\b\b\b\b\b\b\b\b\b\b\b\b\b\b\b\b\b\b\b\b\b\b\b\b\b\b\b\b\b\b\b\b\b\b\b\b\b\b\b\b\b\b\b\b\b\b\b\b\b\b\b\b\b\b\b\nEpoch 12/15\n158/158 [==============================] - 147s 930ms/step - loss: 6.9003 - accuracy: 0.0115\b\b\b\b\b\b\b\b\b\b\b\b\b\b\b\b\b\b\b\b\b\b\b\b\b\b\b\b\b\b\b\b\b\b\b\b\b\b\b\b\b\b\b\b\b\b\b\b\b\b\b\b\b\b\b\b\b\b\b\b\b\b\b\b\b\b\b\b\b\b\b\b\b\b\b\b\b\b\b\b\nEpoch 13/15\n158/158 [==============================] - 147s 928ms/step - loss: 6.8680 - accuracy: 0.0112\b\b\b\b\b\b\b\b\b\b\b\b\b\b\b\b\b\b\b\b\b\b\b\b\b\b\b\b\b\b\b\b\b\b\b\b\b\b\b\b\b\b\b\b\b\b\b\b\b\b\b\b\b\b\b\b\b\b\b\b\b\b\b\b\b\b\b\b\b\b\b\b\b\b\b\b\b\b\b\b\nEpoch 14/15\n158/158 [==============================] - 148s 933ms/step - loss: 6.8518 - accuracy: 0.0112\b\b\b\b\b\b\b\b\b\b\b\b\b\b\b\b\b\b\b\b\b\b\b\b\b\b\b\b\b\b\b\b\b\b\b\b\b\b\b\b\b\b\b\b\b\b\b\b\b\b\b\b\b\b\b\b\b\b\b\b\b\b\b\b\b\b\b\b\b\b\b\b\b\b\b\b\b\b\b\b\nEpoch 15/15\n158/158 [==============================] - 148s 938ms/step - loss: 6.8137 - accuracy: 0.0109\b\b\b\b\b\b\b\b\b\b\b\b\b\b\b\b\b\b\b\b\b\b\b\b\b\b\b\b\b\b\b\b\b\b\b\b\b\b\b\b\b\b\b\b\b\b\b\b\b\b\b\b\b\b\b\b\b\b\b\b\b\b\b\b\b\b\b\b\b\b\b\b\b\b\b\b\b\b\b\b\n"
        },
        {
          "output_type": "execute_result",
          "execution_count": 13,
          "data": {
            "text/plain": "<keras.callbacks.History at 0x7f77181be250>"
          },
          "metadata": {}
        }
      ],
      "execution_count": 13,
      "metadata": {
        "jupyter": {
          "source_hidden": false,
          "outputs_hidden": false
        },
        "nteract": {
          "transient": {
            "deleting": false
          }
        },
        "gather": {
          "logged": 1657130226223
        }
      }
    },
    {
      "cell_type": "code",
      "source": [
        "embeddings_model = Model(gene_expression, model.get_layer('lambda').output)\r\n",
        "\r\n",
        "embed_dataset = {name: tf.convert_to_tensor(value) for name, value in dict(X_test).items()}\r\n",
        "embedded = embeddings_model.predict(embed_dataset, verbose=1)"
      ],
      "outputs": [
        {
          "output_type": "stream",
          "name": "stdout",
          "text": "1127/1127 [==============================] - 75s 62ms/step\b\b\b\b\b\b\b\b\b\b\b\b\b\b\b\b\b\b\b\b\b\b\b\b\b\b\b\b\b\b\b\b\b\b\b\b\b\b\b\b\b\b\b\b\b\b\b\b\b\b\b\b\b\b\b\b\n"
        }
      ],
      "execution_count": 14,
      "metadata": {
        "jupyter": {
          "source_hidden": false,
          "outputs_hidden": false
        },
        "nteract": {
          "transient": {
            "deleting": false
          }
        },
        "gather": {
          "logged": 1657130304853
        }
      }
    },
    {
      "cell_type": "code",
      "source": [
        "_, embedded_sample, _, labs_sample = grouped_train_test_split(embedded, y_test, y_test, test_size=400)\r\n",
        "print(embedded_sample.shape)\r\n",
        "\r\n",
        "recall = recall_at_k(embedded_sample, embedded, y_test)\r\n",
        "quantile = minmax_scale(np.arange(1, embedded.shape[0]), feature_range=(0, 1))\r\n",
        "\r\n",
        "auc = np.trapz(recall, quantile)"
      ],
      "outputs": [
        {
          "output_type": "stream",
          "name": "stdout",
          "text": "(3538, 32)\n"
        }
      ],
      "execution_count": 15,
      "metadata": {
        "jupyter": {
          "source_hidden": false,
          "outputs_hidden": false
        },
        "nteract": {
          "transient": {
            "deleting": false
          }
        },
        "gather": {
          "logged": 1657130324090
        }
      }
    },
    {
      "cell_type": "code",
      "source": [
        "auc_lab = f\"AUC {auc:.2f}\"\r\n",
        "\r\n",
        "fig, ax = plt.subplots()\r\n",
        "ax.plot(quantile, recall)\r\n",
        "props = dict(boxstyle='round', facecolor='white', alpha=0.5)\r\n",
        "ax.text(0.73, 0.1, auc_lab, transform=ax.transAxes, fontsize=14,\r\n",
        "        verticalalignment='bottom', bbox=props)\r\n",
        "plt.title(\"Compound Retrieval for Embedded Signatures in Test Set\")\r\n",
        "plt.xlabel(\"Proportion of Results Included\")\r\n",
        "plt.ylabel(\"Proportion of Compound Instances Identified\")\r\n",
        "plt.show()"
      ],
      "outputs": [
        {
          "output_type": "display_data",
          "data": {
            "text/plain": "<Figure size 432x288 with 1 Axes>",
            "image/png": "[encoded data removed]"
          },
          "metadata": {
            "needs_background": "light"
          }
        }
      ],
      "execution_count": 16,
      "metadata": {
        "jupyter": {
          "source_hidden": false,
          "outputs_hidden": false
        },
        "nteract": {
          "transient": {
            "deleting": false
          }
        },
        "gather": {
          "logged": 1657130324526
        }
      }
    },
    {
      "cell_type": "code",
      "source": [
        "#0.0005 lr, 2048 batch, 25 epochs, got loss 7.83 and 0.81 auc\r\n",
        "#max_m 0.15"
      ],
      "outputs": [],
      "execution_count": 17,
      "metadata": {
        "jupyter": {
          "source_hidden": false,
          "outputs_hidden": false
        },
        "nteract": {
          "transient": {
            "deleting": false
          }
        },
        "gather": {
          "logged": 1657130325002
        }
      }
    }
  ],
  "metadata": {
    "kernelspec": {
      "name": "python38-azureml-pt-tf",
      "language": "python",
      "display_name": "Python 3.8 - Pytorch and Tensorflow"
    },
    "language_info": {
      "name": "python",
      "version": "3.8.5",
      "mimetype": "text/x-python",
      "codemirror_mode": {
        "name": "ipython",
        "version": 3
      },
      "pygments_lexer": "ipython3",
      "nbconvert_exporter": "python",
      "file_extension": ".py"
    },
    "kernel_info": {
      "name": "python38-azureml-pt-tf"
    },
    "microsoft": {
      "host": {
        "AzureML": {
          "notebookHasBeenCompleted": true
        }
      }
    },
    "nteract": {
      "version": "nteract-front-end@1.0.0"
    }
  },
  "nbformat": 4,
  "nbformat_minor": 2
}